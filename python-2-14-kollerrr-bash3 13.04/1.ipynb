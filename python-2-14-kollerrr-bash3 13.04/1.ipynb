{
 "cells": [
  {
   "cell_type": "code",
   "execution_count": null,
   "metadata": {},
   "outputs": [],
   "source": []
  },
  {
   "cell_type": "markdown",
   "metadata": {},
   "source": [
    "## AWK"
   ]
  },
  {
   "cell_type": "code",
   "execution_count": null,
   "metadata": {},
   "outputs": [],
   "source": [
    "df -h | awk '{print $1}'  # $номер столбца "
   ]
  },
  {
   "cell_type": "code",
   "execution_count": null,
   "metadata": {},
   "outputs": [],
   "source": [
    "BEGIN {FS=\",\"; OFS=\"\\t\"; ORS=\"\\n----\\n\"} # OFS - разделитель полей (fields) ORS - разелители между отдельными записями (records)\n",
    "{ print $4 $5 $6 $7 }"
   ]
  },
  {
   "cell_type": "code",
   "execution_count": null,
   "metadata": {},
   "outputs": [],
   "source": [
    "BEGIN {FS=\",\"; OFS=\"\\t\"; ORS=\"\\n----\\n\"}\n",
    "{ s = s + $7 }\n",
    "{ print NR, $4 $5 $6 $7 } # NR - счетчик\n",
    "END {print \"Number of records:\", NR\"\\nAverage age\"}"
   ]
  }
 ],
 "metadata": {
  "language_info": {
   "name": "python"
  }
 },
 "nbformat": 4,
 "nbformat_minor": 2
}
