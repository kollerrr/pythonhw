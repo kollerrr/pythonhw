{
 "cells": [
  {
   "cell_type": "markdown",
   "metadata": {},
   "source": [
    "## Threading (потоки)"
   ]
  },
  {
   "cell_type": "code",
   "execution_count": 11,
   "metadata": {},
   "outputs": [
    {
     "name": "stderr",
     "output_type": "stream",
     "text": [
      "15:55:40: Thread 0: starting\n",
      "15:55:40: Thread 1: starting\n",
      "15:55:40: Thread 2: starting\n",
      "15:55:42: Thread 0: finishing\n",
      "15:55:42: Thread 3: starting\n",
      "15:55:42: Thread 1: finishing\n",
      "15:55:42: Thread 4: starting\n",
      "15:55:42: Thread 2: finishing\n",
      "15:55:42: Thread 5: starting\n",
      "15:55:44: Thread 3: finishing\n",
      "15:55:44: Thread 6: starting\n",
      "15:55:44: Thread 4: finishing\n",
      "15:55:44: Thread 7: starting\n",
      "15:55:44: Thread 5: finishing\n",
      "15:55:44: Thread 8: starting\n",
      "15:55:46: Thread 6: finishing\n",
      "15:55:46: Thread 9: starting\n",
      "15:55:46: Thread 7: finishing\n",
      "15:55:46: Thread 8: finishing\n",
      "15:55:48: Thread 9: finishing\n",
      "15:55:48: Main: all done\n"
     ]
    }
   ],
   "source": [
    "import threading\n",
    "import logging\n",
    "import time\n",
    "import concurrent.futures\n",
    "\n",
    "def thread_function(name):\n",
    "\n",
    "    logging.info(f'Thread {name}: starting')\n",
    "    time.sleep(2)\n",
    "    logging.info(f'Thread {name}: finishing')\n",
    "\n",
    "\n",
    "if __name__ == '__main__':\n",
    "\n",
    "    format = '%(asctime)s: %(message)s'\n",
    "    logging.basicConfig(format=format, level=logging.INFO, datefmt='%H:%M:%S')\n",
    "\n",
    "    n = 10\n",
    "\n",
    "    with concurrent.futures.ThreadPoolExecutor(max_workers=3) as executor:\n",
    "        executor.map(thread_function, range(n))\n",
    "\n",
    "\n",
    "    logging.info('Main: all done')"
   ]
  },
  {
   "cell_type": "code",
   "execution_count": null,
   "metadata": {},
   "outputs": [],
   "source": [
    "import threading\n",
    "import logging\n",
    "import time\n",
    "import concurrent.futures\n",
    "\n",
    "def thread_function(name):\n",
    "\n",
    "    logging.info(f'Thread {name}: starting')\n",
    "    time.sleep(2)\n",
    "    logging.info(f'Thread {name}: finishing')\n",
    "\n",
    "\n",
    "if __name__ == '__main__':\n",
    "\n",
    "    format = '%(asctime)s: %(message)s'\n",
    "    logging.basicConfig(format=format, level=logging.INFO, datefmt='%H:%M:%S')\n",
    "\n",
    "    threads = []\n",
    "    for i in range(3):\n",
    "\n",
    "        logging.info(f'Main: before thread {i}')\n",
    "\n",
    "        x = threading.Thread(target=thread_function, args=(1,), daemon=True)   # обозначаем поток\n",
    "        threads.append(x)\n",
    "        x.start()\n",
    "\n",
    "    logging.info('------------------------')\n",
    "\n",
    "    for i, th in enumerate(threads):\n",
    "        logging.info(f'Main: before creating thread {i}')\n",
    "        th.join()\n",
    "        logging.info(f'Main: thread {i} done')\n",
    "\n",
    "    x.join() # ожидаем завершение потока\n",
    "\n",
    "    logging.info('Main: all done')"
   ]
  },
  {
   "cell_type": "markdown",
   "metadata": {},
   "source": [
    "## Race conditions (состояние гонки)"
   ]
  },
  {
   "cell_type": "code",
   "execution_count": null,
   "metadata": {},
   "outputs": [],
   "source": [
    "class FakeDataBase:\n",
    "\n",
    "\n",
    "    def __init__(self):\n",
    "\n",
    "        self.value = 0\n",
    "        self._lock = threading.Lock()\n",
    "\n",
    "    def locked_update(self, name):\n",
    "\n",
    "        logging.info(f'Thread {name}: starting update')\n",
    "        logging.info(f'Thread {name}: about to lock')\n",
    "\n",
    "        with self._lock:\n",
    "\n",
    "            logging.info(f'Thread {name} has locked')\n",
    "            local_copy = self.value\n",
    "            local_copy += 1\n",
    "            time.sleep(0.1)\n",
    "            self.value = local_copy \n",
    "            logging.info(f'Thread {name}: about to release lock')\n",
    "\n",
    "        logging.info(f'Thread {name}: after release')\n",
    "        logging.info(f'Thread {name}: finishing update')"
   ]
  },
  {
   "cell_type": "code",
   "execution_count": null,
   "metadata": {},
   "outputs": [],
   "source": [
    "if __name__ == '__main__':\n",
    "    format ="
   ]
  }
 ],
 "metadata": {
  "kernelspec": {
   "display_name": "Python 3",
   "language": "python",
   "name": "python3"
  },
  "language_info": {
   "codemirror_mode": {
    "name": "ipython",
    "version": 3
   },
   "file_extension": ".py",
   "mimetype": "text/x-python",
   "name": "python",
   "nbconvert_exporter": "python",
   "pygments_lexer": "ipython3",
   "version": "3.11.5"
  }
 },
 "nbformat": 4,
 "nbformat_minor": 2
}
